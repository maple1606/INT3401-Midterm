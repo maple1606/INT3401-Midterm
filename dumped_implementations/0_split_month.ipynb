{
 "cells": [
  {
   "cell_type": "code",
   "execution_count": 1,
   "metadata": {},
   "outputs": [],
   "source": [
    "import pandas as pd\n",
    "import numpy as np\n",
    "import matplotlib.pyplot as plt\n",
    "import seaborn as sns\n",
    "import psycopg2\n",
    "import os\n",
    "from dotenv import load_dotenv"
   ]
  },
  {
   "cell_type": "code",
   "execution_count": 2,
   "metadata": {},
   "outputs": [
    {
     "name": "stdout",
     "output_type": "stream",
     "text": [
      "PostgreSQL version: ('PostgreSQL 15.8 (Debian 15.8-0+deb12u1) on x86_64-pc-linux-gnu, compiled by gcc (Debian 12.2.0-14) 12.2.0, 64-bit',)\n"
     ]
    }
   ],
   "source": [
    "# Connect to the database\n",
    "load_dotenv()\n",
    "conn = psycopg2.connect(\n",
    "\tdbname=os.getenv(\"DATABASE\"),\n",
    "\tuser=os.getenv(\"USER\"),\n",
    "\tpassword=os.getenv(\"PASSWORD\"),\n",
    "\thost=os.getenv(\"HOST\")\n",
    ")\n",
    "\n",
    "cursor = conn.cursor()\n",
    "cursor.execute(\"SELECT version();\")\n",
    "\n",
    "db_version = cursor.fetchone()\n",
    "print(\"PostgreSQL version:\", db_version)"
   ]
  },
  {
   "cell_type": "markdown",
   "metadata": {},
   "source": [
    "# From points with aws data, split them to month and export to csv"
   ]
  },
  {
   "cell_type": "code",
   "execution_count": null,
   "metadata": {},
   "outputs": [
    {
     "name": "stderr",
     "output_type": "stream",
     "text": [
      "/tmp/ipykernel_54445/3663735210.py:7: UserWarning: pandas only supports SQLAlchemy connectable (engine/connection) or database string URI or sqlite3 DBAPI2 connection. Other DBAPI2 objects are not tested. Please consider using SQLAlchemy.\n",
      "  data = pd.read_sql_query(query, conn)\n",
      "/tmp/ipykernel_54445/3663735210.py:7: UserWarning: pandas only supports SQLAlchemy connectable (engine/connection) or database string URI or sqlite3 DBAPI2 connection. Other DBAPI2 objects are not tested. Please consider using SQLAlchemy.\n",
      "  data = pd.read_sql_query(query, conn)\n"
     ]
    }
   ],
   "source": [
    "months = [4, 10]\n",
    "\n",
    "# get the data for the months\n",
    "for month in months:\n",
    "    output_dir = os.getenv(\"DATAPATH\") + f\"{month}/\"\n",
    "    query = f\"select * from weather_data where extract(month from date) = {month} and aws is not null\"\n",
    "    data = pd.read_sql_query(query, conn)\n",
    "    data.to_csv(f\"{output_dir}weather_data_{month}.csv\", index=False)\n",
    "    data.head()\n",
    "    data['date'] = pd.to_datetime(data['date'], format='%Y-%m-%d %H:%M:%S')\n",
    "    # Train data\n",
    "    train_data = data[(data['date'] >= f'2019-{month}-05 00:00:00') & (data['date'] < f'2020-{month}-28')].reset_index(drop=True)\n",
    "    train_data.to_csv(f\"{output_dir}train_data_{month}.csv\", index=False)\n",
    "    # Test data\n",
    "    test_data = data[(data['date'] < f'2019-{month}-05') | (data['date'] >= f'2020-{month}-28 00:00:00')].reset_index(drop=True)\n",
    "    test_data.to_csv(f\"{output_dir}test_data_{month}.csv\", index=False)"
   ]
  }
 ],
 "metadata": {
  "kernelspec": {
   "display_name": "tf-env",
   "language": "python",
   "name": "python3"
  },
  "language_info": {
   "codemirror_mode": {
    "name": "ipython",
    "version": 3
   },
   "file_extension": ".py",
   "mimetype": "text/x-python",
   "name": "python",
   "nbconvert_exporter": "python",
   "pygments_lexer": "ipython3",
   "version": "3.12.4"
  }
 },
 "nbformat": 4,
 "nbformat_minor": 2
}
