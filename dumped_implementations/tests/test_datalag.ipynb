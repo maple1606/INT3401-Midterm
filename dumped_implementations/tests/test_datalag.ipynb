{
 "cells": [
  {
   "cell_type": "code",
   "execution_count": 1,
   "metadata": {},
   "outputs": [],
   "source": [
    "import pickle\n",
    "import os\n",
    "import pandas as pd\n",
    "from dotenv import load_dotenv\n",
    "\n",
    "load_dotenv()\n",
    "\n",
    "DATAPATH = os.getenv(\"DATAPATH\")\n",
    "dataframes = pickle.load(open(DATAPATH+\"april_cluster_row_col_dfs.pkl\", \"rb\"))"
   ]
  },
  {
   "cell_type": "code",
   "execution_count": 2,
   "metadata": {},
   "outputs": [],
   "source": [
    "import sys\n",
    "sys.path.append(\"/home/hoangbaoan1901/Documents/information-system_UET/sem5/ai/BTL/INT3401-Midterm/LSTM_implementation\")"
   ]
  },
  {
   "cell_type": "code",
   "execution_count": 3,
   "metadata": {},
   "outputs": [
    {
     "data": {
      "text/plain": [
       "4"
      ]
     },
     "execution_count": 3,
     "metadata": {},
     "output_type": "execute_result"
    }
   ],
   "source": [
    "len(dataframes) # 4 clusters"
   ]
  },
  {
   "cell_type": "code",
   "execution_count": 4,
   "metadata": {},
   "outputs": [
    {
     "data": {
      "text/plain": [
       "80"
      ]
     },
     "execution_count": 4,
     "metadata": {},
     "output_type": "execute_result"
    }
   ],
   "source": [
    "cluster_0 = dataframes[0]\n",
    "len(cluster_0) # 80 different dataframes"
   ]
  },
  {
   "cell_type": "code",
   "execution_count": 5,
   "metadata": {},
   "outputs": [
    {
     "data": {
      "text/plain": [
       "(962, 24)"
      ]
     },
     "execution_count": 5,
     "metadata": {},
     "output_type": "execute_result"
    }
   ],
   "source": [
    "df = cluster_0[list(cluster_0.keys())[0]]\n",
    "df.shape"
   ]
  },
  {
   "cell_type": "code",
   "execution_count": 6,
   "metadata": {},
   "outputs": [
    {
     "name": "stdout",
     "output_type": "stream",
     "text": [
      "2\n"
     ]
    }
   ],
   "source": [
    "# Print dimension of df\n",
    "print(len(df.shape))"
   ]
  },
  {
   "cell_type": "code",
   "execution_count": 7,
   "metadata": {},
   "outputs": [
    {
     "data": {
      "text/html": [
       "<div>\n",
       "<style scoped>\n",
       "    .dataframe tbody tr th:only-of-type {\n",
       "        vertical-align: middle;\n",
       "    }\n",
       "\n",
       "    .dataframe tbody tr th {\n",
       "        vertical-align: top;\n",
       "    }\n",
       "\n",
       "    .dataframe thead th {\n",
       "        text-align: right;\n",
       "    }\n",
       "</style>\n",
       "<table border=\"1\" class=\"dataframe\">\n",
       "  <thead>\n",
       "    <tr style=\"text-align: right;\">\n",
       "      <th></th>\n",
       "      <th>date</th>\n",
       "      <th>aws</th>\n",
       "      <th>imerge</th>\n",
       "      <th>tclw</th>\n",
       "      <th>cape</th>\n",
       "      <th>r850</th>\n",
       "      <th>tcwv</th>\n",
       "      <th>tcw</th>\n",
       "      <th>isor</th>\n",
       "      <th>kx</th>\n",
       "      <th>...</th>\n",
       "      <th>slor</th>\n",
       "      <th>b14b</th>\n",
       "      <th>b12b</th>\n",
       "      <th>wvb</th>\n",
       "      <th>b10b</th>\n",
       "      <th>b11b</th>\n",
       "      <th>i2b</th>\n",
       "      <th>b09b</th>\n",
       "      <th>b16b</th>\n",
       "      <th>irb</th>\n",
       "    </tr>\n",
       "  </thead>\n",
       "  <tbody>\n",
       "    <tr>\n",
       "      <th>0</th>\n",
       "      <td>2019-04-01 00:00:00</td>\n",
       "      <td>0.0</td>\n",
       "      <td>0.0</td>\n",
       "      <td>0.093994</td>\n",
       "      <td>930.250</td>\n",
       "      <td>93.015000</td>\n",
       "      <td>29.742813</td>\n",
       "      <td>29.839172</td>\n",
       "      <td>0.5082</td>\n",
       "      <td>32.119940</td>\n",
       "      <td>...</td>\n",
       "      <td>0.034506</td>\n",
       "      <td>288.25058</td>\n",
       "      <td>262.22073</td>\n",
       "      <td>249.72734</td>\n",
       "      <td>266.46400</td>\n",
       "      <td>285.34500</td>\n",
       "      <td>286.39172</td>\n",
       "      <td>260.62613</td>\n",
       "      <td>272.37018</td>\n",
       "      <td>287.96760</td>\n",
       "    </tr>\n",
       "    <tr>\n",
       "      <th>1</th>\n",
       "      <td>2019-04-01 01:00:00</td>\n",
       "      <td>0.0</td>\n",
       "      <td>0.0</td>\n",
       "      <td>0.114746</td>\n",
       "      <td>793.250</td>\n",
       "      <td>98.464480</td>\n",
       "      <td>30.253586</td>\n",
       "      <td>30.370926</td>\n",
       "      <td>0.5082</td>\n",
       "      <td>31.468956</td>\n",
       "      <td>...</td>\n",
       "      <td>0.034506</td>\n",
       "      <td>290.57855</td>\n",
       "      <td>263.76273</td>\n",
       "      <td>249.84330</td>\n",
       "      <td>267.04724</td>\n",
       "      <td>288.03770</td>\n",
       "      <td>288.17337</td>\n",
       "      <td>260.74150</td>\n",
       "      <td>273.22253</td>\n",
       "      <td>290.76288</td>\n",
       "    </tr>\n",
       "    <tr>\n",
       "      <th>2</th>\n",
       "      <td>2019-04-01 02:00:00</td>\n",
       "      <td>0.0</td>\n",
       "      <td>0.0</td>\n",
       "      <td>0.131409</td>\n",
       "      <td>806.750</td>\n",
       "      <td>91.836230</td>\n",
       "      <td>30.177887</td>\n",
       "      <td>30.322403</td>\n",
       "      <td>0.5082</td>\n",
       "      <td>31.187920</td>\n",
       "      <td>...</td>\n",
       "      <td>0.034506</td>\n",
       "      <td>290.43240</td>\n",
       "      <td>263.85605</td>\n",
       "      <td>249.84330</td>\n",
       "      <td>267.04724</td>\n",
       "      <td>288.03436</td>\n",
       "      <td>287.78806</td>\n",
       "      <td>261.30444</td>\n",
       "      <td>272.86917</td>\n",
       "      <td>290.76178</td>\n",
       "    </tr>\n",
       "    <tr>\n",
       "      <th>3</th>\n",
       "      <td>2019-04-01 03:00:00</td>\n",
       "      <td>0.0</td>\n",
       "      <td>0.0</td>\n",
       "      <td>0.156738</td>\n",
       "      <td>1029.125</td>\n",
       "      <td>94.334305</td>\n",
       "      <td>30.166610</td>\n",
       "      <td>30.324677</td>\n",
       "      <td>0.5082</td>\n",
       "      <td>30.806915</td>\n",
       "      <td>...</td>\n",
       "      <td>0.034506</td>\n",
       "      <td>287.45575</td>\n",
       "      <td>262.18450</td>\n",
       "      <td>249.94067</td>\n",
       "      <td>266.46400</td>\n",
       "      <td>284.85562</td>\n",
       "      <td>285.19043</td>\n",
       "      <td>260.76400</td>\n",
       "      <td>271.51350</td>\n",
       "      <td>287.82123</td>\n",
       "    </tr>\n",
       "    <tr>\n",
       "      <th>4</th>\n",
       "      <td>2019-04-01 04:00:00</td>\n",
       "      <td>0.0</td>\n",
       "      <td>0.0</td>\n",
       "      <td>0.139221</td>\n",
       "      <td>1225.750</td>\n",
       "      <td>93.738800</td>\n",
       "      <td>29.525208</td>\n",
       "      <td>29.665360</td>\n",
       "      <td>0.5082</td>\n",
       "      <td>30.228333</td>\n",
       "      <td>...</td>\n",
       "      <td>0.034506</td>\n",
       "      <td>291.72513</td>\n",
       "      <td>265.35060</td>\n",
       "      <td>250.16780</td>\n",
       "      <td>266.26907</td>\n",
       "      <td>290.09470</td>\n",
       "      <td>288.09225</td>\n",
       "      <td>260.74150</td>\n",
       "      <td>272.51306</td>\n",
       "      <td>292.69412</td>\n",
       "    </tr>\n",
       "  </tbody>\n",
       "</table>\n",
       "<p>5 rows × 24 columns</p>\n",
       "</div>"
      ],
      "text/plain": [
       "                 date  aws  imerge      tclw      cape       r850       tcwv  \\\n",
       "0 2019-04-01 00:00:00  0.0     0.0  0.093994   930.250  93.015000  29.742813   \n",
       "1 2019-04-01 01:00:00  0.0     0.0  0.114746   793.250  98.464480  30.253586   \n",
       "2 2019-04-01 02:00:00  0.0     0.0  0.131409   806.750  91.836230  30.177887   \n",
       "3 2019-04-01 03:00:00  0.0     0.0  0.156738  1029.125  94.334305  30.166610   \n",
       "4 2019-04-01 04:00:00  0.0     0.0  0.139221  1225.750  93.738800  29.525208   \n",
       "\n",
       "         tcw    isor         kx  ...      slor       b14b       b12b  \\\n",
       "0  29.839172  0.5082  32.119940  ...  0.034506  288.25058  262.22073   \n",
       "1  30.370926  0.5082  31.468956  ...  0.034506  290.57855  263.76273   \n",
       "2  30.322403  0.5082  31.187920  ...  0.034506  290.43240  263.85605   \n",
       "3  30.324677  0.5082  30.806915  ...  0.034506  287.45575  262.18450   \n",
       "4  29.665360  0.5082  30.228333  ...  0.034506  291.72513  265.35060   \n",
       "\n",
       "         wvb       b10b       b11b        i2b       b09b       b16b        irb  \n",
       "0  249.72734  266.46400  285.34500  286.39172  260.62613  272.37018  287.96760  \n",
       "1  249.84330  267.04724  288.03770  288.17337  260.74150  273.22253  290.76288  \n",
       "2  249.84330  267.04724  288.03436  287.78806  261.30444  272.86917  290.76178  \n",
       "3  249.94067  266.46400  284.85562  285.19043  260.76400  271.51350  287.82123  \n",
       "4  250.16780  266.26907  290.09470  288.09225  260.74150  272.51306  292.69412  \n",
       "\n",
       "[5 rows x 24 columns]"
      ]
     },
     "execution_count": 7,
     "metadata": {},
     "output_type": "execute_result"
    }
   ],
   "source": [
    "df.head()"
   ]
  },
  {
   "cell_type": "code",
   "execution_count": 8,
   "metadata": {},
   "outputs": [
    {
     "ename": "IndentationError",
     "evalue": "expected an indented block after function definition on line 166 (data_processors.py, line 169)",
     "output_type": "error",
     "traceback": [
      "Traceback \u001b[0;36m(most recent call last)\u001b[0m:\n",
      "\u001b[0m  File \u001b[1;32m~/Development/anaconda3/envs/tf-env/lib/python3.12/site-packages/IPython/core/interactiveshell.py:3577\u001b[0m in \u001b[1;35mrun_code\u001b[0m\n    exec(code_obj, self.user_global_ns, self.user_ns)\u001b[0m\n",
      "\u001b[0;36m  Cell \u001b[0;32mIn[8], line 1\u001b[0;36m\n\u001b[0;31m    import data_processors as dp\u001b[0;36m\n",
      "\u001b[0;36m  File \u001b[0;32m~/Documents/information-system_UET/sem5/ai/BTL/INT3401-Midterm/LSTM_implementation/data_processors.py:169\u001b[0;36m\u001b[0m\n\u001b[0;31m    def smote(self):\u001b[0m\n\u001b[0m    ^\u001b[0m\n\u001b[0;31mIndentationError\u001b[0m\u001b[0;31m:\u001b[0m expected an indented block after function definition on line 166\n"
     ]
    }
   ],
   "source": [
    "import data_processors as dp\n",
    "\n",
    "# get lagged data\n",
    "processor = dp.TimeSeriesProcessor(time_step=6, future_step=3)\n",
    "\n",
    "continuous_df = processor.find_continuous(df)\n",
    "len(continuous_df)\n"
   ]
  },
  {
   "cell_type": "code",
   "execution_count": null,
   "metadata": {},
   "outputs": [
    {
     "data": {
      "text/plain": [
       "(222, 23)"
      ]
     },
     "execution_count": 8,
     "metadata": {},
     "output_type": "execute_result"
    }
   ],
   "source": [
    "continuous_df[1].shape"
   ]
  },
  {
   "cell_type": "code",
   "execution_count": null,
   "metadata": {},
   "outputs": [
    {
     "name": "stdout",
     "output_type": "stream",
     "text": [
      "(222, 23)\n",
      "(222, 29)\n",
      "create_lagged_data: X shape: (214, 23), y shape: (214,)\n",
      "[0.0000000e+00 0.0000000e+00 2.9925537e-01 2.4762500e+02 9.7339860e+01\n",
      " 3.1318817e+01 3.1619690e+01 5.0819980e-01 2.7359161e+01 2.6175964e+01\n",
      " 1.7454690e+02 1.1458773e+01 2.9335388e+01 3.4506097e-02 2.8075513e+02\n",
      " 2.5925818e+02 2.4080751e+02 2.5788992e+02 2.7918552e+02 2.7759497e+02\n",
      " 2.5006506e+02 2.6552500e+02 2.8196884e+02] 0.2\n",
      "[0.0000000e+00 0.0000000e+00 1.3751220e-01 1.6075000e+02 8.8643600e+01\n",
      " 3.3806946e+01 3.3943665e+01 5.0819980e-01 3.1793098e+01 3.5230423e+01\n",
      " 2.4732816e+02 8.8461090e+00 2.6433120e+01 3.4506097e-02 2.8085750e+02\n",
      " 2.6085030e+02 2.4015616e+02 2.5718228e+02 2.8183432e+02 2.7850476e+02\n",
      " 2.4950830e+02 2.6547708e+02 2.8090756e+02] 11.2\n",
      "[0.00000000e+00 0.00000000e+00 1.25488280e-01 4.11000000e+02\n",
      " 9.98651700e+01 3.54158630e+01 3.55565640e+01 5.08199800e-01\n",
      " 3.31779800e+01 3.76449740e+01 1.13109566e+02 1.88111880e+01\n",
      " 2.52780150e+01 3.45060970e-02 2.79881500e+02 2.59267820e+02\n",
      " 2.36526950e+02 2.54788530e+02 2.79232540e+02 2.76276500e+02\n",
      " 2.47585980e+02 2.63423030e+02 2.81651180e+02] 0.8\n",
      "[0.0000000e+00 0.0000000e+00 4.3029785e-02 6.5337500e+02 9.6093640e+01\n",
      " 3.5674194e+01 3.5746550e+01 5.0819980e-01 3.2880860e+01 4.2469254e+01\n",
      " 6.4625210e+01 2.5170448e+01 2.5877136e+01 3.4506097e-02 2.8934000e+02\n",
      " 2.6479727e+02 2.3948743e+02 2.5935037e+02 2.8755905e+02 2.8545486e+02\n",
      " 2.5123914e+02 2.7063223e+02 2.9048080e+02] 0.6\n",
      "[0.0000000e+00 0.0000000e+00 7.0800780e-02 3.4087500e+02 9.1520490e+01\n",
      " 3.3850740e+01 3.3947678e+01 5.0819980e-01 3.0223610e+01 4.9286540e+01\n",
      " 3.8218838e+01 2.8649998e+01 3.2015320e+01 3.4506097e-02 2.8607248e+02\n",
      " 2.6241284e+02 2.3750520e+02 2.5582436e+02 2.8392538e+02 2.8243040e+02\n",
      " 2.4766524e+02 2.6899268e+02 2.8683896e+02] 5.2\n",
      "[0.0000000e+00 0.0000000e+00 4.7973633e-02 3.2612500e+02 8.8792710e+01\n",
      " 3.2363174e+01 3.2415100e+01 5.0819980e-01 2.9150436e+01 4.8241690e+01\n",
      " 5.6890686e+01 1.6874844e+01 3.3406450e+01 3.4506097e-02 2.8330466e+02\n",
      " 2.6113843e+02 2.3753067e+02 2.5580104e+02 2.8194763e+02 2.7938556e+02\n",
      " 2.4781050e+02 2.6638998e+02 2.8476978e+02] 5.6\n",
      "[0.0000000e+00 0.0000000e+00 2.3095703e-01 4.5925000e+02 8.3649230e+01\n",
      " 3.1235672e+01 3.1466354e+01 5.0819980e-01 2.9892258e+01 5.9912964e+01\n",
      " 3.2270322e+02 6.6831903e+00 3.7875000e+01 3.4506097e-02 2.7542538e+02\n",
      " 2.5650012e+02 2.3660889e+02 2.5485918e+02 2.7494920e+02 2.7285500e+02\n",
      " 2.4788966e+02 2.6107034e+02 2.7626290e+02] 0.6\n",
      "[0.0000000e+00 0.0000000e+00 2.3535156e-01 3.9962500e+02 8.5034300e+01\n",
      " 3.1015564e+01 3.1252228e+01 5.0819980e-01 2.9356041e+01 6.5624910e+01\n",
      " 3.2367190e+02 8.4858030e+00 3.7666107e+01 3.4506097e-02 2.7968475e+02\n",
      " 2.5911160e+02 2.3842818e+02 2.5836600e+02 2.7910300e+02 2.7850730e+02\n",
      " 2.5046834e+02 2.6597320e+02 2.8105800e+02] 0.2\n",
      "[0.0000000e+00 0.0000000e+00 3.7414550e-02 6.4050000e+02 6.3080353e+01\n",
      " 3.3366684e+01 3.3407730e+01 5.0819980e-01 3.1062004e+01 4.9605637e+01\n",
      " 1.5996875e+02 9.0122050e+00 2.8891342e+01 3.4506097e-02 2.8741763e+02\n",
      " 2.6250906e+02 2.3653479e+02 2.5767667e+02 2.8534418e+02 2.8442334e+02\n",
      " 2.4797572e+02 2.6953873e+02 2.8784787e+02] 1.8\n"
     ]
    }
   ],
   "source": [
    "X, y = processor.create_lagged_data(continuous_df[1])\n",
    "\n",
    "for i in range(len(X)):\n",
    "\tif y[i] > 0:\n",
    "\t\tprint(X[i], y[i])\n"
   ]
  },
  {
   "cell_type": "code",
   "execution_count": null,
   "metadata": {},
   "outputs": [
    {
     "data": {
      "image/png": "[encoded data removed]",
      "text/plain": [
       "<Figure size 1000x600 with 1 Axes>"
      ]
     },
     "metadata": {},
     "output_type": "display_data"
    }
   ],
   "source": [
    "# plot rainfall data\n",
    "import matplotlib.pyplot as plt\n",
    "\n",
    "plt.figure(figsize=(10, 6))\n",
    "# Draw histogram for y values\n",
    "plt.hist(y, bins=120)\n",
    "plt.xlabel('Rainfall')\n",
    "plt.ylabel('Frequency')\n",
    "plt.title('Rainfall Histogram')\n",
    "plt.show()"
   ]
  }
 ],
 "metadata": {
  "kernelspec": {
   "display_name": "tf-env",
   "language": "python",
   "name": "python3"
  },
  "language_info": {
   "codemirror_mode": {
    "name": "ipython",
    "version": 3
   },
   "file_extension": ".py",
   "mimetype": "text/x-python",
   "name": "python",
   "nbconvert_exporter": "python",
   "pygments_lexer": "ipython3",
   "version": "3.12.7"
  }
 },
 "nbformat": 4,
 "nbformat_minor": 2
}
