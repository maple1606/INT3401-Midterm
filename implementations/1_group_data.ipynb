{
 "cells": [
  {
   "cell_type": "code",
   "execution_count": 1,
   "metadata": {},
   "outputs": [
    {
     "data": {
      "text/plain": [
       "True"
      ]
     },
     "execution_count": 1,
     "metadata": {},
     "output_type": "execute_result"
    }
   ],
   "source": [
    "import pandas as pd\n",
    "import os\n",
    "from dotenv import load_dotenv\n",
    "\n",
    "load_dotenv()"
   ]
  },
  {
   "cell_type": "code",
   "execution_count": 2,
   "metadata": {},
   "outputs": [
    {
     "name": "stdout",
     "output_type": "stream",
     "text": [
      "/home/hoangbaoan1901/Documents/information-system_UET/sem5/ai/BTL/INT3401-Midterm/implementations/data/\n"
     ]
    }
   ],
   "source": [
    "import sys\n",
    "\n",
    "IMPL_PATH = os.getenv(\"IMPL_PATH\")\n",
    "sys.path.append(IMPL_PATH)\n",
    "DATA_PATH = IMPL_PATH + \"/data/\"\n",
    "print(DATA_PATH)"
   ]
  },
  {
   "cell_type": "markdown",
   "metadata": {},
   "source": [
    "### HYPER-PARAM"
   ]
  },
  {
   "cell_type": "code",
   "execution_count": 3,
   "metadata": {},
   "outputs": [],
   "source": [
    "N_CLUTERS = 4"
   ]
  },
  {
   "cell_type": "markdown",
   "metadata": {},
   "source": [
    "### Load train-data and test data\n",
    "- Divided into 4 files: test and train data for April and October"
   ]
  },
  {
   "cell_type": "code",
   "execution_count": 4,
   "metadata": {},
   "outputs": [],
   "source": [
    "weather_data_4 = pd.read_csv(DATA_PATH + \"weather_data_4.csv\")\n",
    "weather_data_10 = pd.read_csv(DATA_PATH + \"weather_data_10.csv\")"
   ]
  },
  {
   "cell_type": "markdown",
   "metadata": {},
   "source": [
    "#### Convert 'date' column to datetime"
   ]
  },
  {
   "cell_type": "code",
   "execution_count": 5,
   "metadata": {},
   "outputs": [
    {
     "name": "stdout",
     "output_type": "stream",
     "text": [
      "(305846, 40)\n",
      "(351835, 40)\n"
     ]
    }
   ],
   "source": [
    "dataframes = [weather_data_4, weather_data_10]\n",
    "for df in dataframes:\n",
    "\tdf['date'] = pd.to_datetime(df['date'], format='%Y-%m-%d %H:%M:%S')\n",
    "\tprint(df.shape)"
   ]
  },
  {
   "cell_type": "markdown",
   "metadata": {},
   "source": [
    "#### Drop some columns and na rows"
   ]
  },
  {
   "cell_type": "code",
   "execution_count": 6,
   "metadata": {},
   "outputs": [],
   "source": [
    "columns_to_drop = ['v250', 'ie', 'sshf', 'ewss', 'pev', 'slhf', 'b06b', 'u850', 'v850', 'u250', 'b04b', 'vsb', 'b05b', 'radar', 'r250', 'kx']\n",
    "for df in dataframes:\n",
    "\tdf.drop(columns=columns_to_drop, inplace=True)\n",
    "\tdf.dropna(inplace=True)\n",
    "\tdf = df.reset_index(drop=True)"
   ]
  },
  {
   "cell_type": "markdown",
   "metadata": {},
   "source": [
    "#### For each dataset, group them into clusters"
   ]
  },
  {
   "cell_type": "code",
   "execution_count": 7,
   "metadata": {},
   "outputs": [
    {
     "name": "stdout",
     "output_type": "stream",
     "text": [
      "(254147, 25)\n",
      "(346536, 25)\n"
     ]
    }
   ],
   "source": [
    "import data_processors as dp\n",
    "\n",
    "data_grouper = dp.DataGrouper(N_CLUTERS)\n",
    "for df in dataframes:\n",
    "\tdata_grouper.fcm_cluster_df(df)\n",
    "\tprint(df.shape)"
   ]
  },
  {
   "cell_type": "code",
   "execution_count": 8,
   "metadata": {},
   "outputs": [],
   "source": [
    "# Split the data into training and testing sets\n",
    "weather_data_4_train = weather_data_4[(weather_data_4['date'] >= '2019-4-05 00:00:00') & (weather_data_4['date'] < '2020-4-28 00:00:00')]\n",
    "weather_data_4_test = weather_data_4[(weather_data_4['date'] < '2019-4-05 00:00:00') | (weather_data_4['date'] >= '2020-4-28 00:00:00')]\n",
    "weather_data_10_train = weather_data_10[(weather_data_10['date'] >= '2019-4-05 00:00:00') & (weather_data_10['date'] < '2020-4-28 00:00:00')]\n",
    "weather_data_10_test = weather_data_10[(weather_data_10['date'] < '2019-4-05 00:00:00') | (weather_data_10['date'] >= '2020-4-28 00:00:00')]"
   ]
  },
  {
   "cell_type": "code",
   "execution_count": 9,
   "metadata": {},
   "outputs": [
    {
     "name": "stdout",
     "output_type": "stream",
     "text": [
      "get_grouped_data: len(coord_df_map): 80\n",
      "get_grouped_data: len(coord_df_map): 77\n",
      "get_grouped_data: len(coord_df_map): 104\n",
      "get_grouped_data: len(coord_df_map): 59\n",
      "get_grouped_data: len(data_clusters): 4\n",
      "get_grouped_data: len(coord_df_map): 79\n",
      "get_grouped_data: len(coord_df_map): 75\n",
      "get_grouped_data: len(coord_df_map): 103\n",
      "get_grouped_data: len(coord_df_map): 58\n",
      "get_grouped_data: len(data_clusters): 4\n",
      "get_grouped_data: len(coord_df_map): 96\n",
      "get_grouped_data: len(coord_df_map): 50\n",
      "get_grouped_data: len(coord_df_map): 83\n",
      "get_grouped_data: len(coord_df_map): 76\n",
      "get_grouped_data: len(data_clusters): 4\n",
      "get_grouped_data: len(coord_df_map): 102\n",
      "get_grouped_data: len(coord_df_map): 65\n",
      "get_grouped_data: len(coord_df_map): 84\n",
      "get_grouped_data: len(coord_df_map): 78\n",
      "get_grouped_data: len(data_clusters): 4\n"
     ]
    }
   ],
   "source": [
    "# Group the data by (row, col, cluster)\n",
    "train_4_clusters = data_grouper.get_grouped_data(weather_data_4_train)\n",
    "test_4_clusters = data_grouper.get_grouped_data(weather_data_4_test)\n",
    "train_10_clusters = data_grouper.get_grouped_data(weather_data_10_train)\n",
    "test_10_clusters = data_grouper.get_grouped_data(weather_data_10_test)"
   ]
  },
  {
   "cell_type": "code",
   "execution_count": 10,
   "metadata": {},
   "outputs": [],
   "source": [
    "# Save the data to pickle\n",
    "import pickle\n",
    "\n",
    "train_4_clusters_file = open(DATA_PATH + \"train_4_clusters.pkl\", \"wb\")\n",
    "test_4_clusters_file = open(DATA_PATH + \"test_4_clusters.pkl\", \"wb\")\n",
    "train_10_clusters_file = open(DATA_PATH + \"train_10_clusters.pkl\", \"wb\")\n",
    "test_10_clusters_file = open(DATA_PATH + \"test_10_clusters.pkl\", \"wb\")\n",
    "\n",
    "pickle.dump(train_4_clusters, train_4_clusters_file)\n",
    "pickle.dump(test_4_clusters, test_4_clusters_file)\n",
    "pickle.dump(train_10_clusters, train_10_clusters_file)\n",
    "pickle.dump(test_10_clusters, test_10_clusters_file)\n",
    "\n",
    "# Close the files\n",
    "train_4_clusters_file.close()\n",
    "test_4_clusters_file.close()\n",
    "train_10_clusters_file.close()\n",
    "test_10_clusters_file.close()\n"
   ]
  }
 ],
 "metadata": {
  "kernelspec": {
   "display_name": "tf-env",
   "language": "python",
   "name": "python3"
  },
  "language_info": {
   "codemirror_mode": {
    "name": "ipython",
    "version": 3
   },
   "file_extension": ".py",
   "mimetype": "text/x-python",
   "name": "python",
   "nbconvert_exporter": "python",
   "pygments_lexer": "ipython3",
   "version": "3.12.7"
  }
 },
 "nbformat": 4,
 "nbformat_minor": 2
}
